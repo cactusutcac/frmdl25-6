{
 "cells": [
  {
   "cell_type": "markdown",
   "id": "62d626d7",
   "metadata": {},
   "source": [
    "# Quantization Model"
   ]
  },
  {
   "cell_type": "code",
   "execution_count": null,
   "id": "92caa02c",
   "metadata": {},
   "outputs": [],
   "source": [
    "import torch\n",
    "import torch.nn as nn\n",
    "import torch.nn.functional as F\n"
   ]
  },
  {
   "cell_type": "code",
   "execution_count": 4,
   "id": "449dfdee",
   "metadata": {},
   "outputs": [],
   "source": [
    "class DifferentiableQuantization(nn.Module):\n",
    "    def __init__(self, num_bins=15, hardness=10.0, normalize_input=True, rescale_output=True):\n",
    "        \"\"\"\n",
    "        Args:\n",
    "            num_bins (int): Number of quantization bins (default 15).\n",
    "            hardness (float): Controls sigmoid sharpness; higher = closer to step function.\n",
    "            normalize_input (bool): Whether to normalize input to [0, num_bins] before quantizing.\n",
    "            rescale_output (bool): Whether to rescale output back to input's original value range.\n",
    "        \"\"\"\n",
    "        super().__init__()\n",
    "        self.num_bins = num_bins\n",
    "        self.hardness = hardness\n",
    "        self.normalize_input = normalize_input\n",
    "        self.rescale_output = rescale_output\n",
    "\n",
    "        # Initialize bin centers at [0.5, 1.5, ..., 14.5] for num_bins = 15\n",
    "        init_bins = torch.linspace(0.5, num_bins - 0.5, steps=num_bins)\n",
    "        self.bins = nn.Parameter(init_bins)\n",
    "\n",
    "    def forward(self, x):\n",
    "        \"\"\"\n",
    "        Args:\n",
    "            x (Tensor): Input tensor of shape (B, C, H, W)\n",
    "        Returns:\n",
    "            Tensor: Quantized output of shape (B, C, H, W)\n",
    "        \"\"\"\n",
    "        orig_min, orig_max = x.min(), x.max()\n",
    "\n",
    "        if self.normalize_input:\n",
    "            qmin = 0.0\n",
    "            qmax = float(self.num_bins)\n",
    "            scale = (orig_max - orig_min) / (qmax - qmin)\n",
    "            scale = max(scale, 1e-4)\n",
    "            x = (x - orig_min) / (orig_max - orig_min + 1e-4) * (qmax - qmin)\n",
    "\n",
    "        # Expand for broadcasting\n",
    "        x_expanded = x.unsqueeze(-1)                        # Shape: [B, C, H, W, 1]\n",
    "        bin_centers = self.bins.view(1, 1, 1, 1, -1)        # Shape: [1, 1, 1, 1, num_bins]\n",
    "\n",
    "        # Sum of sigmoid activations\n",
    "        y = torch.sigmoid(self.hardness * (x_expanded - bin_centers)).sum(dim=-1)\n",
    "\n",
    "        if self.normalize_input and self.rescale_output:\n",
    "            y = y * scale + orig_min\n",
    "\n",
    "        return y\n"
   ]
  },
  {
   "cell_type": "markdown",
   "id": "c489ef2f",
   "metadata": {},
   "source": [
    "## Test "
   ]
  },
  {
   "cell_type": "code",
   "execution_count": 5,
   "id": "bf94e2e8",
   "metadata": {},
   "outputs": [],
   "source": [
    "from quantization import DifferentiableQuantization\n",
    "quantizer = DifferentiableQuantization(num_bins=15, hardness=10.0)\n"
   ]
  },
  {
   "cell_type": "code",
   "execution_count": 6,
   "id": "f97cf738",
   "metadata": {},
   "outputs": [],
   "source": [
    "# Simulated input: gradient from 0 to 15\n",
    "x = torch.linspace(0, 15, steps=100).view(1, 1, 10, 10)  # Shape: (1, 1, 10, 10)\n"
   ]
  },
  {
   "cell_type": "code",
   "execution_count": 7,
   "id": "76f11220",
   "metadata": {},
   "outputs": [],
   "source": [
    "with torch.no_grad():\n",
    "    y = quantizer(x)\n"
   ]
  },
  {
   "cell_type": "code",
   "execution_count": 8,
   "id": "ca2bdec8",
   "metadata": {},
   "outputs": [
    {
     "data": {
      "image/png": "[encoded data removed]",
      "text/plain": [
       "<Figure size 1000x400 with 4 Axes>"
      ]
     },
     "metadata": {},
     "output_type": "display_data"
    }
   ],
   "source": [
    "import matplotlib.pyplot as plt\n",
    "\n",
    "plt.figure(figsize=(10, 4))\n",
    "plt.subplot(1, 2, 1)\n",
    "plt.imshow(x.squeeze().numpy(), cmap='gray')\n",
    "plt.title(\"Original Input (0–15)\")\n",
    "plt.colorbar()\n",
    "\n",
    "plt.subplot(1, 2, 2)\n",
    "plt.imshow(y.squeeze().numpy(), cmap='gray')\n",
    "plt.title(\"Quantized Output\")\n",
    "plt.colorbar()\n",
    "plt.tight_layout()\n",
    "plt.show()\n"
   ]
  }
 ],
 "metadata": {
  "kernelspec": {
   "display_name": "base",
   "language": "python",
   "name": "python3"
  },
  "language_info": {
   "codemirror_mode": {
    "name": "ipython",
    "version": 3
   },
   "file_extension": ".py",
   "mimetype": "text/x-python",
   "name": "python",
   "nbconvert_exporter": "python",
   "pygments_lexer": "ipython3",
   "version": "3.12.7"
  }
 },
 "nbformat": 4,
 "nbformat_minor": 5
}
