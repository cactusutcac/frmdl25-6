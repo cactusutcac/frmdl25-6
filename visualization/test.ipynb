{
 "cells": [
  {
   "cell_type": "code",
   "execution_count": 11,
   "id": "31342011",
   "metadata": {},
   "outputs": [],
   "source": [
    "from tensorboard.backend.event_processing import event_accumulator\n",
    "import os\n"
   ]
  },
  {
   "cell_type": "code",
   "execution_count": null,
   "id": "9946830b",
   "metadata": {},
   "outputs": [
    {
     "data": {
      "text/plain": [
       "<tensorboard.backend.event_processing.event_accumulator.EventAccumulator at 0x12f046c50>"
      ]
     },
     "execution_count": 12,
     "metadata": {},
     "output_type": "execute_result"
    }
   ],
   "source": [
    "log_dir = \"./visualization/logs/runs_ixmas/Accuracy_val_acc_action\"\n",
    "event_file = [f for f in os.listdir(log_dir) if f.startswith(\"events.out\")][0]\n",
    "event_path = os.path.join(log_dir, event_file)\n",
    "\n",
    "ea = event_accumulator.EventAccumulator(event_path)\n",
    "ea.Reload()\n",
    "\n"
   ]
  },
  {
   "cell_type": "code",
   "execution_count": 13,
   "id": "92189374",
   "metadata": {},
   "outputs": [
    {
     "name": "stdout",
     "output_type": "stream",
     "text": [
      "Available scalar tags:\n",
      "['Accuracy']\n"
     ]
    }
   ],
   "source": [
    "print(\"Available scalar tags:\")\n",
    "print(ea.Tags()[\"scalars\"])\n"
   ]
  }
 ],
 "metadata": {
  "language_info": {
   "name": "python"
  }
 },
 "nbformat": 4,
 "nbformat_minor": 5
}
